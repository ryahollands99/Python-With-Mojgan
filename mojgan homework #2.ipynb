{
 "cells": [
  {
   "cell_type": "markdown",
   "id": "2bcdfa9a",
   "metadata": {},
   "source": [
    "(1) Prompt the user to enter a string of their choosing (assume no punctuation). Store the text in a string. Split the string into words and print out a sorted list of the words. Use a function print_words() to do this printing; it has a list of words as a parameter and prints each word on a a single line separated by spaces. When done printing the line, print a newline character. (3 pts)\n",
    "\n",
    "Ex:\n",
    "\n",
    "Enter a sentence (without punctuation):\n",
    "This Is a Sentence That Repeats this is a sentence that repeats but has different words with Capitals\n",
    "Sorted list of words:\n",
    "Capitals Is Repeats Sentence That This a but different has is repeats sentence that this with words"
   ]
  },
  {
   "cell_type": "code",
   "execution_count": 43,
   "id": "e74c9939",
   "metadata": {},
   "outputs": [
    {
     "name": "stdout",
     "output_type": "stream",
     "text": [
      "Enter a string of your choosing: This Is a Sentence That Repeats this is a sentence that repeats but has different words with Capitals\n"
     ]
    }
   ],
   "source": [
    "#Step 1 = get user to input a string of their choosing -> user_text = input(..)\n",
    "#Step 2 = create a function called print_words that takes in a string and produces a string\n",
    "#Step 3 = Split the string into words .split(\" \")\n",
    "#Step 4 = Sort the list\n",
    "#Step 5 = Print each word from the list on a single line\n",
    "#Step 6 = When done printa new linecharacter\n",
    "\n",
    "user_text = input(\"Enter a string of your choosing: \")\n",
    "\n",
    "#Step 2\n",
    "def print_words(text):\n",
    "    #Step 3\n",
    "    word_list_sorted = []\n",
    "    word_list = text.split(\" \")\n",
    "    \n",
    "    for i in range(len(word_list)):\n",
    "        word = word_list[i]\n",
    "        if word[0].isupper():\n",
    "            word_list_sorted.insert(0, word)\n",
    "        else:\n",
    "            word_list_sorted.append(word)\n",
    "    word_list_sort = sorted(word_list_sorted)\n",
    "    \n",
    "    end_sentence = ''\n",
    "    for word in word_list_sort:\n",
    "        end_sentence += word + \" \"\n",
    "    end_sentence += \"\\n\"\n",
    "    return(end_sentence)\n",
    "\n"
   ]
  },
  {
   "cell_type": "markdown",
   "id": "3f28d902",
   "metadata": {},
   "source": [
    "(2) Now implement a remove_duplicates() function, which has a list of words that has been sorted as a parameter, and returns a list of words with duplicates removed. Then extend your program to print the sorted list of words all in lower case but without duplicate words, such as the following: (12pts)\n",
    "\n",
    "Enter a sentence (without punctuation): This Is a Sentence That Repeats this is a sentence that repeats but has different words with Capitals\n",
    "Sorted list of words:\n",
    "Capitals Is Repeats Sentence That This a a but different has is repeats sentence that this with words\n",
    "Sorted list of words in lower case without duplicates:\n",
    "a but capitals different has is repeats sentence that this with words"
   ]
  },
  {
   "cell_type": "code",
   "execution_count": 69,
   "id": "4d767da7",
   "metadata": {},
   "outputs": [
    {
     "name": "stdout",
     "output_type": "stream",
     "text": [
      "a but different has is repeats sentence that this with words \n",
      " \n"
     ]
    }
   ],
   "source": [
    "sorted_text = print_words(user_text)\n",
    "\n",
    "sorted_text_list = sorted_text.split(\" \")\n",
    "\n",
    "remove_duplicate = \"\"\n",
    "\n",
    "for word in sorted_text_list:\n",
    "    if word not in remove_duplicate:\n",
    "        if not word[0].isupper():\n",
    "            remove_duplicate = remove_duplicate + word + \" \"\n",
    "            \n",
    "print(remove_duplicate)"
   ]
  },
  {
   "cell_type": "code",
   "execution_count": null,
   "id": "5460c730",
   "metadata": {},
   "outputs": [],
   "source": []
  }
 ],
 "metadata": {
  "kernelspec": {
   "display_name": "Python 3 (ipykernel)",
   "language": "python",
   "name": "python3"
  },
  "language_info": {
   "codemirror_mode": {
    "name": "ipython",
    "version": 3
   },
   "file_extension": ".py",
   "mimetype": "text/x-python",
   "name": "python",
   "nbconvert_exporter": "python",
   "pygments_lexer": "ipython3",
   "version": "3.9.12"
  }
 },
 "nbformat": 4,
 "nbformat_minor": 5
}
