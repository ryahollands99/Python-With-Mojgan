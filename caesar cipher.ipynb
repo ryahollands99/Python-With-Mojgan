{
 "cells": [
  {
   "cell_type": "code",
   "execution_count": 3,
   "id": "95b569ca",
   "metadata": {},
   "outputs": [
    {
     "name": "stdout",
     "output_type": "stream",
     "text": [
      "Check this number: 87\n",
      "It's not a prime number\n"
     ]
    }
   ],
   "source": [
    "#Prime Number Checker warm up exercise\n",
    "\n",
    "def prime_checker(number):\n",
    "    prime = True\n",
    "    for n in range(2, number):\n",
    "        if number % n == 0:\n",
    "          prime = False;\n",
    "\n",
    "    if prime:\n",
    "        print(\"It's a prime number\")\n",
    "    else:\n",
    "        print(\"It's not a prime number\")\n",
    "    \n",
    "n = int(input(\"Check this number: \"))\n",
    "prime_checker(number=n)"
   ]
  },
  {
   "cell_type": "code",
   "execution_count": 8,
   "id": "814cae50",
   "metadata": {},
   "outputs": [
    {
     "name": "stdout",
     "output_type": "stream",
     "text": [
      "Type 'encode' to encrypt, type 'decode' to decrypt:\n",
      "encode\n",
      "Type your message:\n",
      "zulu\n",
      "Type the shift number:\n",
      "10\n",
      "The encoded text is kfvf\n"
     ]
    }
   ],
   "source": [
    "alphabet = ['a', 'b', 'c', 'd', 'e', 'f', 'g', 'h', 'i', 'j', 'k', 'l', 'm', 'n', 'o', 'p', 'q', 'r', 's', 't', 'u', 'v', 'w', 'x', 'y', 'z']\n",
    "\n",
    "direction = input(\"Type 'encode' to encrypt, type 'decode' to decrypt:\\n\")\n",
    "text = input(\"Type your message:\\n\").lower()\n",
    "shift = int(input(\"Type the shift number:\\n\"))\n",
    "\n",
    "\n",
    "#TODO-1: Create a function called 'encrypt' that takes the 'text' and 'shift' as inputs.\n",
    "\n",
    "def encrypt(text, shift):\n",
    "\n",
    "    #TODO-2: Inside the 'encrypt' function, shift each letter of the 'text' forwards in the alphabet by the shift amount and print the encrypted text.  \n",
    "    #e.g. \n",
    "    #plain_text = \"hello\"\n",
    "    #shift = 5\n",
    "    #cipher_text = \"mjqqt\"\n",
    "    #print output: \"The encoded text is mjqqt\"\n",
    "\n",
    "    ##HINT: How do you get the index of an item in a list:\n",
    "    #https://stackoverflow.com/questions/176918/finding-the-index-of-an-item-in-a-list\n",
    "\n",
    "    ##🐛Bug alert: What happens if you try to encode the word 'civilization'?🐛\n",
    "    encrypt_text = \"\"\n",
    "    for letter in text:\n",
    "        letter_index = alphabet.index(letter)\n",
    "        if (letter_index + shift) < 25:\n",
    "            index_shift = letter_index + shift      \n",
    "        else:\n",
    "            index_shift = shift - (25 - letter_index)\n",
    "        new_letter = alphabet[index_shift]\n",
    "        encrypt_text += new_letter\n",
    "        \n",
    "    print(f\"The encoded text is {encrypt_text}\")\n",
    "\n",
    "#TODO-3: Call the encrypt function and pass in the user inputs. You should be able to test the code and encrypt a message. \n",
    "\n",
    "encrypt(text, shift)"
   ]
  },
  {
   "cell_type": "code",
   "execution_count": 17,
   "id": "9b0e2e0d",
   "metadata": {},
   "outputs": [
    {
     "name": "stdout",
     "output_type": "stream",
     "text": [
      "Type 'encode' to encrypt, type 'decode' to decrypt:\n",
      "decode\n",
      "Type your message:\n",
      "olssv\n",
      "Type the shift number:\n",
      "7\n",
      "The decrypted text is hello\n"
     ]
    }
   ],
   "source": [
    "alphabet = ['a', 'b', 'c', 'd', 'e', 'f', 'g', 'h', 'i', 'j', 'k', 'l', 'm', 'n', 'o', 'p', 'q', 'r', 's', 't', 'u', 'v', 'w', 'x', 'y', 'z', 'a', 'b', 'c', 'd', 'e', 'f', 'g', 'h', 'i', 'j', 'k', 'l', 'm', 'n', 'o', 'p', 'q', 'r', 's', 't', 'u', 'v', 'w', 'x', 'y', 'z']\n",
    "\n",
    "direction = input(\"Type 'encode' to encrypt, type 'decode' to decrypt:\\n\")\n",
    "text = input(\"Type your message:\\n\").lower()\n",
    "shift = int(input(\"Type the shift number:\\n\"))\n",
    "\n",
    "def encrypt(plain_text, shift_amount):\n",
    "  cipher_text = \"\"\n",
    "  for letter in plain_text:\n",
    "    position = alphabet.index(letter)\n",
    "    new_position = position + shift_amount\n",
    "    cipher_text += alphabet[new_position]\n",
    "  print(f\"The encoded text is {cipher_text}\")\n",
    "\n",
    "#TODO-1: Create a different function called 'decrypt' that takes the 'text' and 'shift' as inputs.\n",
    "\n",
    "  #TODO-2: Inside the 'decrypt' function, shift each letter of the 'text' *backwards* in the alphabet by the shift amount and print the decrypted text.  \n",
    "  #e.g. \n",
    "  #cipher_text = \"mjqqt\"\n",
    "  #shift = 5\n",
    "  #plain_text = \"hello\"\n",
    "  #print output: \"The decoded text is hello\"\n",
    "\n",
    "def decrypt(encrypt_text, shift_amount):\n",
    "    plain_text = \"\"\n",
    "    for letter in encrypt_text:\n",
    "        position = alphabet.index(letter)\n",
    "        new_position = position - shift_amount\n",
    "        plain_text += alphabet[new_position]\n",
    "    print(f\"The decrypted text is {plain_text}\")\n",
    "\n",
    "\n",
    "#TODO-3: Check if the user wanted to encrypt or decrypt the message by checking the 'direction' variable. Then call the correct function based on that 'drection' variable. You should be able to test the code to encrypt *AND* decrypt a message.\n",
    "if direction == \"encode\":\n",
    "    encrypt(plain_text=text, shift_amount=shift)\n",
    "elif direction == \"decode\":\n",
    "    decrypt(encrypt_text=text, shift_amount=shift)"
   ]
  },
  {
   "cell_type": "code",
   "execution_count": 23,
   "id": "8295c171",
   "metadata": {},
   "outputs": [
    {
     "name": "stdout",
     "output_type": "stream",
     "text": [
      "Type 'encode' to encrypt, type 'decode' to decrypt:\n",
      "decode\n",
      "Type your message:\n",
      "mjqqt\n",
      "Type the shift number:\n",
      "5\n",
      "The decode text is hello\n"
     ]
    }
   ],
   "source": [
    "alphabet = ['a', 'b', 'c', 'd', 'e', 'f', 'g', 'h', 'i', 'j', 'k', 'l', 'm', 'n', 'o', 'p', 'q', 'r', 's', 't', 'u', 'v', 'w', 'x', 'y', 'z', 'a', 'b', 'c', 'd', 'e', 'f', 'g', 'h', 'i', 'j', 'k', 'l', 'm', 'n', 'o', 'p', 'q', 'r', 's', 't', 'u', 'v', 'w', 'x', 'y', 'z']\n",
    "\n",
    "direction = input(\"Type 'encode' to encrypt, type 'decode' to decrypt:\\n\")\n",
    "text = input(\"Type your message:\\n\").lower()\n",
    "shift = int(input(\"Type the shift number:\\n\"))\n",
    "\n",
    "#TODO-1: Combine the encrypt() and decrypt() functions into a single function called caesar(). \n",
    "\n",
    "def caeser(text, shift_amount, direction):\n",
    "    \n",
    "    new_text = \"\"\n",
    "    if direction == \"decode\":\n",
    "        shift_amount *= -1\n",
    "    for letter in text:\n",
    "        position = alphabet.index(letter)\n",
    "        new_position = position + shift_amount\n",
    "        new_text += alphabet[new_position]    \n",
    "    print(f\"The {direction} text is {new_text}\")\n",
    "   \n",
    "#TODO-2: Call the caesar() function, passing over the 'text', 'shift' and 'direction' values.\n",
    "\n",
    "caeser(text, shift, direction)"
   ]
  },
  {
   "cell_type": "code",
   "execution_count": 24,
   "id": "2ddcfb8f",
   "metadata": {},
   "outputs": [
    {
     "name": "stdout",
     "output_type": "stream",
     "text": [
      "Type 'encode' to encrypt, type 'decode' to decrypt:\n",
      "encode\n",
      "Type your message:\n",
      "This is an example sentence\n",
      "Type the shift number:\n",
      "65\n",
      "Here's the encoded result: guvf vf na rknzcyr fragrapr\n",
      "Type 'yes' if you want to go again. Otherwise type 'n'.\n",
      "no\n",
      "Goodbye\n"
     ]
    }
   ],
   "source": [
    "alphabet = ['a', 'b', 'c', 'd', 'e', 'f', 'g', 'h', 'i', 'j', 'k', 'l', 'm', 'n', 'o', 'p', 'q', 'r', 's', 't', 'u', 'v', 'w', 'x', 'y', 'z', 'a', 'b', 'c', 'd', 'e', 'f', 'g', 'h', 'i', 'j', 'k', 'l', 'm', 'n', 'o', 'p', 'q', 'r', 's', 't', 'u', 'v', 'w', 'x', 'y', 'z']\n",
    "\n",
    "def caesar(start_text, shift_amount, cipher_direction):\n",
    "  end_text = \"\"\n",
    "  if cipher_direction == \"decode\":\n",
    "    shift_amount *= -1\n",
    "  for char in start_text:\n",
    "    #TODO-3: What happens if the user enters a number/symbol/space?\n",
    "    #Can you fix the code to keep the number/symbol/space when the text is encoded/decoded?\n",
    "    #e.g. start_text = \"meet me at 3\"\n",
    "    #end_text = \"•••• •• •• 3\"\n",
    "    if char in alphabet:\n",
    "        position = alphabet.index(char)\n",
    "        new_position = position + shift_amount\n",
    "        end_text += alphabet[new_position]\n",
    "    else: \n",
    "        end_text += char\n",
    "    \n",
    "  print(f\"Here's the {cipher_direction}d result: {end_text}\")\n",
    "\n",
    "#TODO-4: Can you figure out a way to ask the user if they want to restart the cipher program?\n",
    "#e.g. Type 'yes' if you want to go again. Otherwise type 'no'.\n",
    "#If they type 'yes' then ask them for the direction/text/shift again and call the caesar() function again?\n",
    "#Hint: Try creating a while loop that continues to execute the program if the user types 'yes'. \n",
    "\n",
    "should_continue = True\n",
    "while should_continue:\n",
    "\n",
    "    direction = input(\"Type 'encode' to encrypt, type 'decode' to decrypt:\\n\")\n",
    "    text = input(\"Type your message:\\n\").lower()\n",
    "    shift = int(input(\"Type the shift number:\\n\"))\n",
    "\n",
    "    #TODO-2: What if the user enters a shift that is greater than the number of letters in the alphabet?\n",
    "    #Try running the program and entering a shift number of 45.\n",
    "    #Add some code so that the program continues to work even if the user enters a shift number greater than 26. \n",
    "    #Hint: Think about how you can use the modulus (%).\n",
    "\n",
    "    shift = shift % 26\n",
    "\n",
    "    caesar(start_text=text, shift_amount=shift, cipher_direction=direction)\n",
    "    \n",
    "    result = input(\"Type 'yes' if you want to go again. Otherwise type 'no'.\\n\")\n",
    "    if result == \"no\":\n",
    "        should_continue = False\n",
    "        print(\"Goodbye\")"
   ]
  },
  {
   "cell_type": "code",
   "execution_count": null,
   "id": "dfec9f31",
   "metadata": {},
   "outputs": [],
   "source": []
  }
 ],
 "metadata": {
  "kernelspec": {
   "display_name": "Python 3 (ipykernel)",
   "language": "python",
   "name": "python3"
  },
  "language_info": {
   "codemirror_mode": {
    "name": "ipython",
    "version": 3
   },
   "file_extension": ".py",
   "mimetype": "text/x-python",
   "name": "python",
   "nbconvert_exporter": "python",
   "pygments_lexer": "ipython3",
   "version": "3.9.12"
  }
 },
 "nbformat": 4,
 "nbformat_minor": 5
}
