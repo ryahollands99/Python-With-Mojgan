{
 "cells": [
  {
   "cell_type": "markdown",
   "id": "bc26dc75",
   "metadata": {},
   "source": [
    "# Fractorial"
   ]
  },
  {
   "cell_type": "markdown",
   "id": "1b9e2cb4",
   "metadata": {},
   "source": [
    "<!-- \n",
    "Objective: Create a function that multiples all whole numbers from the chosen number down to 1\n",
    "\n",
    "Number -> Number\n",
    "produces n * n-1 * n-2 * ... * 1\n",
    "Examples:\n",
    "factorial(3) == 3 * 2 * 1\n",
    "factorial(0) == 1\n",
    "\n",
    "template:\n",
    "def(factorial(n)):\n",
    "    (..n)\n",
    "\n",
    " -->"
   ]
  },
  {
   "cell_type": "code",
   "execution_count": 26,
   "id": "b8df583b",
   "metadata": {},
   "outputs": [
    {
     "name": "stderr",
     "output_type": "stream",
     "text": [
      "test_normal (__main__.TestFactorial) ... ok\n",
      "test_zero (__main__.TestFactorial) ... ok\n",
      "\n",
      "----------------------------------------------------------------------\n",
      "Ran 2 tests in 0.006s\n",
      "\n",
      "OK\n"
     ]
    },
    {
     "data": {
      "text/plain": [
       "<unittest.main.TestProgram at 0x1fcf2ff4550>"
      ]
     },
     "execution_count": 26,
     "metadata": {},
     "output_type": "execute_result"
    }
   ],
   "source": [
    "import unittest\n",
    "\n",
    "def factorial(n):\n",
    "    #define variable to hold the factorial amount\n",
    "    factorial_sum = 1 \n",
    "    #check to see if n = 0, if true then return 1\n",
    "    if n == 0:\n",
    "        return 1\n",
    "    else:\n",
    "        while n > 0:\n",
    "            factorial_sum = factorial_sum * n\n",
    "            n -= 1\n",
    "        return factorial_sum\n",
    "    \n",
    "class TestFactorial(unittest.TestCase):\n",
    "    \n",
    "    def test_normal(self):\n",
    "        self.assertEqual(factorial(4), 24)\n",
    "    \n",
    "    def test_zero(self):\n",
    "        self.assertEqual(factorial(0),1)\n",
    "        \n",
    "\n",
    "unittest.main(argv=[''], verbosity=2, exit=False)\n",
    "        "
   ]
  },
  {
   "cell_type": "code",
   "execution_count": null,
   "id": "7b54f954",
   "metadata": {},
   "outputs": [],
   "source": []
  }
 ],
 "metadata": {
  "kernelspec": {
   "display_name": "Python 3 (ipykernel)",
   "language": "python",
   "name": "python3"
  },
  "language_info": {
   "codemirror_mode": {
    "name": "ipython",
    "version": 3
   },
   "file_extension": ".py",
   "mimetype": "text/x-python",
   "name": "python",
   "nbconvert_exporter": "python",
   "pygments_lexer": "ipython3",
   "version": "3.9.12"
  }
 },
 "nbformat": 4,
 "nbformat_minor": 5
}
