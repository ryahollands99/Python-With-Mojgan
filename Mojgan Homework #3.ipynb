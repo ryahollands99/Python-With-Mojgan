{
 "cells": [
  {
   "cell_type": "markdown",
   "id": "ae801ea5",
   "metadata": {},
   "source": [
    "Write a program that first reads in the name of an input file, followed by two strings representing the lower and upper bounds of a search range. The file should be read using the file.readlines() method. The input file contains a list of alphabetical, ten-letter strings, each on a separate line. Your program should output all strings from the list that are within that range (inclusive of the bounds).\n",
    "\n",
    "Ex: If the input is:\n",
    "\n",
    "input1.txt\n",
    "ammoniated\n",
    "millennium\n",
    "and the contents of input1.txt are:\n",
    "\n",
    "aspiration\n",
    "classified\n",
    "federation\n",
    "graduation\n",
    "millennium\n",
    "philosophy\n",
    "quadratics\n",
    "transcript\n",
    "wilderness\n",
    "zoologists\n",
    "the output is:\n",
    "\n",
    "aspiration\n",
    "classified\n",
    "federation\n",
    "graduation\n",
    "millennium\n"
   ]
  },
  {
   "cell_type": "code",
   "execution_count": 23,
   "id": "1ee0a83f",
   "metadata": {},
   "outputs": [
    {
     "name": "stdout",
     "output_type": "stream",
     "text": [
      " aspiration classified federation graduation millennium \n"
     ]
    }
   ],
   "source": [
    "#Step 1 Open the file input1.txt\n",
    "#Step 2 Read each word and save it in a list\n",
    "#Step 3: Sort the list aphabetically\n",
    "#Step 4: Create a string variable to include the words within the range\n",
    "#Step 5: Loop through the list and check if the word is within the search range. If true then add it to the string variable\n",
    "\n",
    "def alphabet_range(text, lower_bound, upper_bound):\n",
    "    #Step 1\n",
    "    my_file = open(text, 'r')\n",
    "\n",
    "    #Step 2\n",
    "    my_file = my_file.readlines()\n",
    "    \n",
    "    #Step 3\n",
    "    words_list = sorted(my_file[0].split(\" \"))\n",
    "\n",
    "    #Step 4\n",
    "    word_range = \" \"\n",
    "\n",
    "    #Step 5\n",
    "    for word in words_list:\n",
    "        if word >= lower_bound and word <= upper_bound:\n",
    "            word_range += word + \" \"\n",
    "            \n",
    "    print(word_range)\n",
    "    \n",
    "alphabet_range('input1.txt', 'ammoniated', 'millennium')"
   ]
  },
  {
   "cell_type": "code",
   "execution_count": null,
   "id": "2679cfcd",
   "metadata": {},
   "outputs": [],
   "source": []
  }
 ],
 "metadata": {
  "kernelspec": {
   "display_name": "Python 3 (ipykernel)",
   "language": "python",
   "name": "python3"
  },
  "language_info": {
   "codemirror_mode": {
    "name": "ipython",
    "version": 3
   },
   "file_extension": ".py",
   "mimetype": "text/x-python",
   "name": "python",
   "nbconvert_exporter": "python",
   "pygments_lexer": "ipython3",
   "version": "3.9.12"
  }
 },
 "nbformat": 4,
 "nbformat_minor": 5
}
