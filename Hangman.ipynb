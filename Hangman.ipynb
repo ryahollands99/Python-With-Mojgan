{
 "cells": [
  {
   "cell_type": "markdown",
   "id": "6478a588",
   "metadata": {},
   "source": [
    "# Hangman"
   ]
  },
  {
   "cell_type": "code",
   "execution_count": 7,
   "id": "15e36091",
   "metadata": {},
   "outputs": [],
   "source": [
    "#TODO-1 - Randomly choose a word from the word_list and assign it to a variable called chosen_word.\n",
    "\n",
    "#TODO-2 - Ask the user to guess a letter and assign their answer to a variable called guess. Make guess lowercase.\n",
    "\n",
    "#TODO-3 - Check if the letter the user guessed (guess) is one of the letters in the chosen_word."
   ]
  },
  {
   "cell_type": "code",
   "execution_count": 34,
   "id": "186029e0",
   "metadata": {},
   "outputs": [],
   "source": [
    "word_list = [\"aardvark\", \"baboon\", \"camel\"]"
   ]
  },
  {
   "cell_type": "code",
   "execution_count": 35,
   "id": "b2b8ebc5",
   "metadata": {},
   "outputs": [
    {
     "name": "stdout",
     "output_type": "stream",
     "text": [
      "Guess a letter: a\n",
      "For testing, the word is baboon\n"
     ]
    }
   ],
   "source": [
    "import random\n",
    "\n",
    "random_word = random.choice(word_list)\n",
    "guess = input(\"Guess a letter: \").lower()\n",
    "\n",
    "#To test to see if the program works\n",
    "print(f\"For testing, the word is {random_word}\")"
   ]
  },
  {
   "cell_type": "code",
   "execution_count": 36,
   "id": "e1ff2a49",
   "metadata": {},
   "outputs": [
    {
     "name": "stdout",
     "output_type": "stream",
     "text": [
      "True\n"
     ]
    }
   ],
   "source": [
    "for letter in random_word:\n",
    "    right_guess = False\n",
    "    if guess == letter:\n",
    "        right_guess = True\n",
    "        break\n",
    "print(right_guess)"
   ]
  },
  {
   "cell_type": "code",
   "execution_count": 37,
   "id": "3c60394f",
   "metadata": {},
   "outputs": [],
   "source": [
    "#TODO-3: - Print 'display' and you should see the guessed letter in the correct position and every other letter \n",
    "#          replace with \"_\"."
   ]
  },
  {
   "cell_type": "code",
   "execution_count": 38,
   "id": "71fa3a7e",
   "metadata": {},
   "outputs": [
    {
     "name": "stdout",
     "output_type": "stream",
     "text": [
      "['-', 'a', '-', '-', '-', '-']\n"
     ]
    }
   ],
   "source": [
    "display = []\n",
    "word_length = len(random_word)\n",
    "\n",
    "for _ in range(word_length):\n",
    "    display += \"-\"\n",
    "\n",
    "for position in range(word_length):\n",
    "    letter = random_word[position]\n",
    "    if guess == letter:\n",
    "        display[position] = letter\n",
    "\n",
    "\n",
    "print(display)"
   ]
  },
  {
   "cell_type": "code",
   "execution_count": 39,
   "id": "f3f62844",
   "metadata": {},
   "outputs": [],
   "source": [
    "#ToDO-4 Use a while loop to let the user guess again\n",
    "# while ....(\n",
    "    #guess = input(\"Guess a letter: \").lower()\n",
    "    #for position in range(word_length)\n",
    "    #...\n",
    "    \n",
    "#create variable, end_of_game, that changes to True if all words selected\n",
    "# check if \"_\" is not in the list. If not in, then change end_of_game to True\n",
    "\n",
    "#TODO-5 Create variable called lives to keep track of the number of lives left. Set lives to equal 6\n",
    "#TODO-6 Reduce life by 1 if guess is wrong\n",
    "    #Check if guess is in display after the for loop\n",
    "    #If guess is not in the display, then the guess was wrong and reduce lives by 1"
   ]
  },
  {
   "cell_type": "code",
   "execution_count": 53,
   "id": "4dcfeee9",
   "metadata": {},
   "outputs": [
    {
     "name": "stdout",
     "output_type": "stream",
     "text": [
      "Guess a letter: a\n",
      "-a----\n",
      "Guess a letter: d\n",
      "\n",
      "You guessed d, that's not in the word. You lose a life.\n",
      "\n",
      "  +---+\n",
      "  |   |\n",
      "  O   |\n",
      "      |\n",
      "      |\n",
      "      |\n",
      "=========\n",
      "\n",
      "\n",
      "-a----\n",
      "Guess a letter: b\n",
      "bab---\n",
      "Guess a letter: b\n",
      "You've already guessed b\n",
      "bab---\n",
      "Guess a letter: o\n",
      "baboo-\n",
      "Guess a letter: n\n",
      "baboon\n",
      "You win!\n"
     ]
    }
   ],
   "source": [
    "stages = ['''\n",
    "  +---+\n",
    "  |   |\n",
    "  O   |\n",
    " /|\\  |\n",
    " / \\  |\n",
    "      |\n",
    "=========\n",
    "''', '''\n",
    "  +---+\n",
    "  |   |\n",
    "  O   |\n",
    " /|\\  |\n",
    " /    |\n",
    "      |\n",
    "=========\n",
    "''', '''\n",
    "  +---+\n",
    "  |   |\n",
    "  O   |\n",
    " /|\\  |\n",
    "      |\n",
    "      |\n",
    "=========\n",
    "''', '''\n",
    "  +---+\n",
    "  |   |\n",
    "  O   |\n",
    " /|   |\n",
    "      |\n",
    "      |\n",
    "=========''', '''\n",
    "  +---+\n",
    "  |   |\n",
    "  O   |\n",
    "  |   |\n",
    "      |\n",
    "      |\n",
    "=========\n",
    "''', '''\n",
    "  +---+\n",
    "  |   |\n",
    "  O   |\n",
    "      |\n",
    "      |\n",
    "      |\n",
    "=========\n",
    "''', '''\n",
    "  +---+\n",
    "  |   |\n",
    "      |\n",
    "      |\n",
    "      |\n",
    "      |\n",
    "=========\n",
    "''']\n",
    "\n",
    "display = []\n",
    "word_length = len(random_word)\n",
    "\n",
    "for _ in range(word_length):\n",
    "    display += \"-\"\n",
    "\n",
    "end_of_game = False\n",
    "lives = 6\n",
    "\n",
    "while not end_of_game:\n",
    "    guess = input(\"Guess a letter: \").lower()\n",
    "    \n",
    "    #Check if word was already guessed\n",
    "    if guess in display:\n",
    "       print(f\"You've already guessed {guess}\")\n",
    "    else:\n",
    "        for position in range(word_length):\n",
    "            letter = random_word[position]\n",
    "            if guess == letter:\n",
    "                display[position] = letter\n",
    "    \n",
    "    #Check if guess is wrong\n",
    "    if guess not in display:\n",
    "        #reduce live by one for wrong guess\n",
    "        lives = lives - 1\n",
    "        print(\"\")\n",
    "        print(f\"You guessed {guess}, that's not in the word. You lose a life.\")\n",
    "        print(stages[lives])\n",
    "        print(\"\")\n",
    "        if lives == 0:\n",
    "            print(\"You Lost!\")\n",
    "            end_of_game = True\n",
    "    \n",
    "    #Join all the elements in the list and turn it into a string\n",
    "    print(f\"{''.join(display)}\")\n",
    "    \n",
    "    #Check if all letters are guessed\n",
    "    if \"-\" not in display:\n",
    "        end_of_game = True\n",
    "        print(\"You win!\")\n",
    "        \n",
    "            \n",
    "    "
   ]
  },
  {
   "cell_type": "code",
   "execution_count": null,
   "id": "f50444a2",
   "metadata": {},
   "outputs": [],
   "source": []
  },
  {
   "cell_type": "code",
   "execution_count": null,
   "id": "48fd318e",
   "metadata": {},
   "outputs": [],
   "source": []
  }
 ],
 "metadata": {
  "kernelspec": {
   "display_name": "Python 3 (ipykernel)",
   "language": "python",
   "name": "python3"
  },
  "language_info": {
   "codemirror_mode": {
    "name": "ipython",
    "version": 3
   },
   "file_extension": ".py",
   "mimetype": "text/x-python",
   "name": "python",
   "nbconvert_exporter": "python",
   "pygments_lexer": "ipython3",
   "version": "3.9.12"
  }
 },
 "nbformat": 4,
 "nbformat_minor": 5
}
