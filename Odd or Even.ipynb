{
 "cells": [
  {
   "cell_type": "markdown",
   "id": "482d5b1e",
   "metadata": {},
   "source": [
    "# ODD OR EVEN?"
   ]
  },
  {
   "cell_type": "code",
   "execution_count": 50,
   "id": "641146b5",
   "metadata": {},
   "outputs": [],
   "source": [
    "#Check to see the numbers entered by a user or either odd, even, or a mix\n",
    "\n",
    "#Step 1: Create a function that takes in a user's input and returns a list of numbers\n",
    "#Step 2: Create a function that inputs the user's numbers, checks if it's even, and returns True or False\n",
    "#Step 3: Create a function that inputs the user's numbers, checks if it's odd, and returns True or False\n",
    "#Step 4: Create a function that inputs the boolean value of the even and odd function and prints Even, Odd or Mixed\n",
    "#         - outcomes: Inputs (True, False) prints Even\n",
    "#                     Inputs (False, True) prints Odd\n",
    "#                     Inputs (True, True)  prints Mixed"
   ]
  },
  {
   "cell_type": "code",
   "execution_count": 51,
   "id": "e396064f",
   "metadata": {},
   "outputs": [
    {
     "name": "stdout",
     "output_type": "stream",
     "text": [
      "How many numbers do you want to enter: 3\n",
      "Enter Number in Index 0: 3\n",
      "Enter Number in Index 1: 7\n",
      "Enter Number in Index 2: 99\n",
      "3\n",
      "7\n",
      "99\n"
     ]
    }
   ],
   "source": [
    "#Step 1 User's input 1\n",
    "#  a) Ask the user how many numbers\n",
    "#        i) check if the value is an integer\n",
    "#  b) Ask the user to input numbers\n",
    "#         i) create an empty list\n",
    "#         ii) for i in range(0, number of numbers user wants to input)\n",
    "#                       input number 1\n",
    "#                       .. input number i\n",
    "#  c) Returns list of numbers\n",
    "\n",
    "def user_numbers():\n",
    "    \n",
    "    #Ask the user how many numbers\n",
    "    amount_of_numbers = input(\"How many numbers do you want to enter: \")\n",
    "   \n",
    "    #check if the value is an integer\n",
    "    try:\n",
    "        amount_of_numbers = int(amount_of_numbers)\n",
    "    except:\n",
    "        print(\"Please enter only whole numbers\")\n",
    "    \n",
    "    #create an empty list \n",
    "    number_list = []\n",
    "    \n",
    "    #Get input of numbers from user and place it in list\n",
    "    for i in range(0, amount_of_numbers, 1):\n",
    "        number_list.append(int(input(f\"Enter Number in Index {i}: \" )))\n",
    "\n",
    "    return (number_list)\n",
    "\n",
    "list_of_numbers = user_numbers()\n",
    "#print out numbers\n",
    "for number in list_of_numbers:\n",
    "    print(number)\n",
    "\n",
    "        \n",
    "    \n",
    "        \n",
    "\n",
    "\n",
    "# reference: https://pynative.com/python-accept-list-input-from-user/"
   ]
  },
  {
   "cell_type": "code",
   "execution_count": 52,
   "id": "98b3167b",
   "metadata": {},
   "outputs": [
    {
     "name": "stdout",
     "output_type": "stream",
     "text": [
      "False\n"
     ]
    }
   ],
   "source": [
    "#Step 2: Create a function that inputs the user's numbers, checks if it's even, and returns True or False\n",
    "#        i) Loop through number list and check each number if it's even. Return True or False\n",
    "\n",
    "\n",
    "\n",
    "def check_is_even(list_of_numbers):\n",
    "    \n",
    "    #Set is_it_even to True\n",
    "    is_it_even = True\n",
    "    \n",
    "    #Loop through number list\n",
    "    for number in list_of_numbers:\n",
    "        #Check if the number is not even\n",
    "        if number % 2 != 0:\n",
    "            #If it's not even, then change is_it_even to False\n",
    "            is_it_even = False\n",
    "            \n",
    "    return(is_it_even)\n",
    "\n",
    "even_numbers = check_is_even(list_of_numbers)\n",
    "print(even_numbers)\n",
    "\n"
   ]
  },
  {
   "cell_type": "code",
   "execution_count": 53,
   "id": "73e91488",
   "metadata": {},
   "outputs": [
    {
     "name": "stdout",
     "output_type": "stream",
     "text": [
      "True\n"
     ]
    }
   ],
   "source": [
    "#Step 3: Create a function that inputs the user's numbers, checks if it's odd, and returns True or False\n",
    "#        i) Loop through number list and check each number if it's odd. Return True or False\n",
    "\n",
    "def check_is_odd(list_of_numbers):\n",
    "    \n",
    "    #Set is_it_odd to True\n",
    "    is_it_odd = True\n",
    "    \n",
    "    #Loop through number list\n",
    "    for number in list_of_numbers:\n",
    "        #Check if the number is not odd\n",
    "        if number % 2 == 0:\n",
    "            #If not odd, then change is_it_odd to False\n",
    "            is_it_odd = False\n",
    "            \n",
    "    return(is_it_odd)\n",
    "    \n",
    "odd_numbers = check_is_odd(list_of_numbers)\n",
    "print(odd_numbers)"
   ]
  },
  {
   "cell_type": "code",
   "execution_count": 54,
   "id": "5d5a8ae2",
   "metadata": {},
   "outputs": [
    {
     "name": "stdout",
     "output_type": "stream",
     "text": [
      "Odd!\n"
     ]
    }
   ],
   "source": [
    "#Step 4: Create a function that takes in the boolean value of the even and odd function and prints Even, Odd or Mixed\n",
    "\n",
    "def display_results(even_numbers, odd_numbers):\n",
    "    \n",
    "    if(even_numbers == True and odd_numbers == False):\n",
    "        print(\"Even!\")\n",
    "    elif(even_numbers == False and odd_numbers == True):\n",
    "        print(\"Odd!\")\n",
    "    elif(even_numbers == False and odd_numbers == False):\n",
    "        print(\"Mix of Even and Odd Numbers!\")\n",
    "    else:\n",
    "        print(\"Please input only whole numbers\")\n",
    "        \n",
    "display_results(even_numbers, odd_numbers)\n",
    "\n"
   ]
  },
  {
   "cell_type": "code",
   "execution_count": null,
   "id": "40f284ce",
   "metadata": {},
   "outputs": [],
   "source": []
  }
 ],
 "metadata": {
  "kernelspec": {
   "display_name": "Python 3 (ipykernel)",
   "language": "python",
   "name": "python3"
  },
  "language_info": {
   "codemirror_mode": {
    "name": "ipython",
    "version": 3
   },
   "file_extension": ".py",
   "mimetype": "text/x-python",
   "name": "python",
   "nbconvert_exporter": "python",
   "pygments_lexer": "ipython3",
   "version": "3.9.12"
  }
 },
 "nbformat": 4,
 "nbformat_minor": 5
}
