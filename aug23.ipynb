{
 "cells": [
  {
   "cell_type": "code",
   "execution_count": 12,
   "id": "3a4255dd",
   "metadata": {},
   "outputs": [
    {
     "name": "stdout",
     "output_type": "stream",
     "text": [
      "[43, 23]\n",
      "[8, 43]\n",
      "[9, 53]\n",
      "[2, 46]\n",
      "[11, 56]\n",
      "[89, 23]\n",
      "[76, 8]\n",
      "Column 1 average is 34.0 and Column 2 average is 36.0\n"
     ]
    }
   ],
   "source": [
    "my_file = open('readme.txt', \"r\")\n",
    "\n",
    "sum_col_one = 0\n",
    "sum_col_two = 0\n",
    "number_of_rows = 0\n",
    "\n",
    "for line in my_file:\n",
    "    line = line.strip('\\n')\n",
    "    word = line.split(',')\n",
    "    word[0] = int(word[0])\n",
    "    word[1] = int(word[1])\n",
    "    sum_col_one += word[0]\n",
    "    sum_col_two += word[1]\n",
    "    number_of_rows += 1 \n",
    "    print(word)\n",
    "    \n",
    "avg_col_one = sum_col_one / number_of_rows\n",
    "avg_col_two = sum_col_two / number_of_rows\n",
    "\n",
    "print(f\"Column 1 average is {avg_col_one} and Column 2 average is {avg_col_two}\")\n",
    "    "
   ]
  },
  {
   "cell_type": "markdown",
   "id": "860f1d27",
   "metadata": {},
   "source": [
    "#myfile.close()\n",
    "\n",
    "#my_file.readline()\n",
    "#my_file.read()"
   ]
  },
  {
   "cell_type": "code",
   "execution_count": 13,
   "id": "ea89b07c",
   "metadata": {},
   "outputs": [],
   "source": [
    "my_file.close()"
   ]
  },
  {
   "cell_type": "code",
   "execution_count": 48,
   "id": "3392b3a2",
   "metadata": {},
   "outputs": [
    {
     "name": "stdout",
     "output_type": "stream",
     "text": [
      "2\n",
      "3\n",
      "4\n",
      "5\n",
      "6\n",
      "[Mojgan is an  amazing teacher]\n",
      "7\n",
      "8\n",
      "9\n",
      "10\n",
      "11\n",
      "[Python is a fun programming language]\n",
      "The number of words are 11, the average length of a word is 8.909090909090908\n"
     ]
    }
   ],
   "source": [
    "my_file = open('mytext.txt', 'r')\n",
    "\n",
    "#remove punctuation marks in the sentence\n",
    "punctuation = '!?.,;\\'\\\":'\n",
    "\n",
    "#number of words and average length of the word\n",
    "word_count = 1\n",
    "word_length = 0\n",
    "\n",
    "\n",
    "\n",
    "for line in my_file:\n",
    "    line = line.strip('\\n')\n",
    "    words = str(line.split(' '))\n",
    "    \n",
    "    new_words = ''\n",
    "    for word in words:\n",
    "        if not word.isnumeric():\n",
    "            #count letters until reach space\n",
    "            if word != ' ':\n",
    "                word_length += 1\n",
    "            else:\n",
    "                word_count += 1\n",
    "                print(word_count)\n",
    "            new_words += word.strip(punctuation)\n",
    "    print(new_words)\n",
    "    \n",
    "        \n",
    "    \n",
    "word_length_avg = word_length / word_count\n",
    "print(f\"The number of words are {word_count}, the average length of a word is {word_length_avg}\")"
   ]
  },
  {
   "cell_type": "code",
   "execution_count": null,
   "id": "dd12701b",
   "metadata": {},
   "outputs": [],
   "source": []
  }
 ],
 "metadata": {
  "kernelspec": {
   "display_name": "Python 3 (ipykernel)",
   "language": "python",
   "name": "python3"
  },
  "language_info": {
   "codemirror_mode": {
    "name": "ipython",
    "version": 3
   },
   "file_extension": ".py",
   "mimetype": "text/x-python",
   "name": "python",
   "nbconvert_exporter": "python",
   "pygments_lexer": "ipython3",
   "version": "3.9.12"
  }
 },
 "nbformat": 4,
 "nbformat_minor": 5
}
