{
 "cells": [
  {
   "cell_type": "code",
   "execution_count": 9,
   "id": "50eebebc",
   "metadata": {},
   "outputs": [
    {
     "name": "stdout",
     "output_type": "stream",
     "text": [
      "o\n",
      "oll\n"
     ]
    }
   ],
   "source": [
    "#line of text and reverse a text and repeat until the user quits\n",
    "\n",
    "# index 0 of original word and place the letter in index -1 of reverse \n",
    "word = 'hello'\n",
    "print(word[-1])\n",
    "reverse_word = ''\n",
    "reverse_word  = reverse_word + word[-1] + word[-2] + word[-3]\n",
    "print(reverse_word)\n",
    "\n",
    "#reverse_word  = reverse_word + word[-2]\n",
    "#reverse_word  = reverse_word + word[-3]\n",
    "#print(reverse_word)"
   ]
  },
  {
   "cell_type": "code",
   "execution_count": 13,
   "id": "87e3deff",
   "metadata": {},
   "outputs": [
    {
     "name": "stdout",
     "output_type": "stream",
     "text": [
      "olleh\n"
     ]
    }
   ],
   "source": [
    "reverse_word = ''\n",
    "i = len(word) - 1\n",
    "while i >= 0:\n",
    "    reverse_word += word[i]\n",
    "    i -= 1\n",
    "print(reverse_word)"
   ]
  },
  {
   "cell_type": "code",
   "execution_count": 29,
   "id": "113b076f",
   "metadata": {},
   "outputs": [],
   "source": [
    "def reverse_word(word):\n",
    "    reverse_word = ''\n",
    "    for i in range(len(word)-1, -1, -1):\n",
    "        reverse_word += word[i]\n",
    "    return(reverse_word)\n",
    "\n",
    "#    for x in range(10,2,-3):\n",
    "#    print(x)\n",
    "\n",
    "    \n",
    "    \n",
    "    \n",
    "    "
   ]
  },
  {
   "cell_type": "code",
   "execution_count": 30,
   "id": "abe0dd13",
   "metadata": {},
   "outputs": [],
   "source": [
    "# take user input until user says quit in lower or uppercase\n",
    "\n",
    "#Step 1: Take user input\n",
    "#Step 1a: Check if the word is not quit again lower and uppercase. Put user input in lowercase and check against the word 'quit'\n",
    "\n",
    "#step 2: reverse word\n",
    "#Step 3: Take user input"
   ]
  },
  {
   "cell_type": "code",
   "execution_count": 31,
   "id": "d0912639",
   "metadata": {},
   "outputs": [
    {
     "name": "stdout",
     "output_type": "stream",
     "text": [
      "Type in a word. To escape, type Quit: hello\n"
     ]
    }
   ],
   "source": [
    "word = input(\"Type in a word. To escape, type Quit: \")\n"
   ]
  },
  {
   "cell_type": "code",
   "execution_count": 33,
   "id": "55c4cd2f",
   "metadata": {},
   "outputs": [
    {
     "name": "stdout",
     "output_type": "stream",
     "text": [
      "olleh\n",
      "Type in a word. To escape, type Quit: quit\n"
     ]
    }
   ],
   "source": [
    "while word.lower() != 'quit':\n",
    "    print(reverse_word(word))\n",
    "    word = input(\"Type in a word. To escape, type Quit: \")\n",
    "\n",
    "    "
   ]
  },
  {
   "cell_type": "code",
   "execution_count": 47,
   "id": "38a2d6c8",
   "metadata": {},
   "outputs": [
    {
     "name": "stdout",
     "output_type": "stream",
     "text": [
      "Please enter a character: #\n",
      "Please enter the height of the triangle: 4\n",
      "#\n",
      "##\n",
      "###\n",
      "####\n"
     ]
    }
   ],
   "source": [
    "#Enter a Character\n",
    "\n",
    "#Enter triangle height\n",
    "\n",
    "#Step 1: TO ask user for character\n",
    "#Step 2: ask user for the triangle heigh\n",
    "#Step 3: Create for loop that increments from 1 to triangle_height\n",
    "#for i in range(1, 1, triangle_height)\n",
    "#1 ... i\n",
    "# Step 4: print the character triangle_height times\n",
    "# if i = 1 print(#)\n",
    "# if i = 2 print(##)\n",
    "# for i in range(0, i, 1 )\n",
    "# print(character, end= '')\n",
    "# Step 5: Print line \n",
    "\n",
    "character = input(\"Please enter a character: \")\n",
    "triangle_height = int(input(\"Please enter the height of the triangle: \"))\n",
    "\n",
    "for i in range(1, triangle_height+1, 1):\n",
    "    for k in range (0, i, 1):\n",
    "        print(character, end= '')\n",
    "    print('')\n",
    "\n",
    "\n",
    "\n",
    "\n",
    "\n"
   ]
  },
  {
   "cell_type": "code",
   "execution_count": 40,
   "id": "53dcb9a2",
   "metadata": {},
   "outputs": [
    {
     "name": "stdout",
     "output_type": "stream",
     "text": [
      "########"
     ]
    }
   ],
   "source": [
    "character = \"#\"\n",
    "for i in range(1, 9, 1):\n",
    "    print(character, end = '')"
   ]
  },
  {
   "cell_type": "code",
   "execution_count": null,
   "id": "7ae292d7",
   "metadata": {},
   "outputs": [],
   "source": [
    "# Homework\n",
    "# write a rpogram that reads a list of integers and output if its all odd, even or neither.\n",
    "#input integer\n",
    "# Step 1: How many numbres do you want to input\n",
    "# Step 2: Take input from user\n",
    "# Step: Check if all odd or even or mix of both\n",
    "# Step 4: print result"
   ]
  }
 ],
 "metadata": {
  "kernelspec": {
   "display_name": "Python 3 (ipykernel)",
   "language": "python",
   "name": "python3"
  },
  "language_info": {
   "codemirror_mode": {
    "name": "ipython",
    "version": 3
   },
   "file_extension": ".py",
   "mimetype": "text/x-python",
   "name": "python",
   "nbconvert_exporter": "python",
   "pygments_lexer": "ipython3",
   "version": "3.9.12"
  }
 },
 "nbformat": 4,
 "nbformat_minor": 5
}
